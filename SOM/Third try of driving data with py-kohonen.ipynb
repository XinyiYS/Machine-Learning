{
 "cells": [
  {
   "cell_type": "code",
   "execution_count": 1,
   "metadata": {
    "collapsed": true
   },
   "outputs": [],
   "source": [
    "import scipy\n",
    "import kohonen\n",
    "import tensorflow\n",
    "import json\n",
    "import numpy as np \n",
    "import matplotlib.pylab as plt\n",
    "import pandas as pd\n",
    "from time import time"
   ]
  },
  {
   "cell_type": "code",
   "execution_count": 2,
   "metadata": {},
   "outputs": [
    {
     "name": "stdout",
     "output_type": "stream",
     "text": [
      "data loaded\n"
     ]
    }
   ],
   "source": [
    "with open('E:/Work/Intern/Neva/Tasks and assignments/som model/dataOut.txt') as fi:\n",
    "    data = json.load(fi)\n",
    "gyroRotationX = data['sensor']['gyroData']['gyroRotationX']\n",
    "gyroRotationY = data['sensor']['gyroData']['gyroRotationY']\n",
    "gyroRotationZ = data['sensor']['gyroData']['gyroRotationZ']\n",
    "orientationAzimuth = data['sensor']['orientationData']['orientationAzimuth']\n",
    "\n",
    "print('data loaded')"
   ]
  },
  {
   "cell_type": "code",
   "execution_count": 3,
   "metadata": {
    "collapsed": true
   },
   "outputs": [],
   "source": [
    "d = {}\n",
    "d['gyroRotationX'] = gyroRotationX\n",
    "d['gyroRotationY'] = gyroRotationY\n",
    "d['gyroRotationZ'] = gyroRotationZ\n",
    "d['orientationAzimuth'] = orientationAzimuth\n",
    "df = pd.DataFrame(d)"
   ]
  },
  {
   "cell_type": "code",
   "execution_count": null,
   "metadata": {
    "collapsed": true
   },
   "outputs": [],
   "source": [
    ""
   ]
  }
 ],
 "metadata": {
  "kernelspec": {
   "display_name": "Python 3",
   "language": "python",
   "name": "python3"
  },
  "language_info": {
   "codemirror_mode": {
    "name": "ipython",
    "version": 3.0
   },
   "file_extension": ".py",
   "mimetype": "text/x-python",
   "name": "python",
   "nbconvert_exporter": "python",
   "pygments_lexer": "ipython3",
   "version": "3.6.1"
  }
 },
 "nbformat": 4,
 "nbformat_minor": 0
}